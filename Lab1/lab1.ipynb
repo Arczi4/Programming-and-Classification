{
 "cells": [
  {
   "cell_type": "markdown",
   "metadata": {},
   "source": [
    "Exercise 1"
   ]
  },
  {
   "cell_type": "code",
   "execution_count": 3,
   "metadata": {},
   "outputs": [
    {
     "name": "stdout",
     "output_type": "stream",
     "text": [
      "Number is odd\n"
     ]
    }
   ],
   "source": [
    "try:\n",
    "    number = int(input(\"Enter a number: \"))\n",
    "    if number % 2 == 0:\n",
    "        print(\"Number is odd\")\n",
    "    else:\n",
    "        print(\"Number is even\")\n",
    "except ValueError:\n",
    "    print(\"Your entry is not an integer!\")"
   ]
  },
  {
   "cell_type": "markdown",
   "metadata": {},
   "source": [
    "Exercise 2"
   ]
  },
  {
   "cell_type": "code",
   "execution_count": 127,
   "metadata": {},
   "outputs": [
    {
     "name": "stdout",
     "output_type": "stream",
     "text": [
      "Mean value: 62.05 \n",
      "Max value: 94\n"
     ]
    }
   ],
   "source": [
    "import random\n",
    "values = []\n",
    "for x in range(20):\n",
    "    values.append(random.randint(10,99))\n",
    "print(f\"Mean value: {sum(values)/len(values)} \\nMax value: {max(values)}\")"
   ]
  },
  {
   "cell_type": "markdown",
   "metadata": {},
   "source": [
    "Exercise 3"
   ]
  },
  {
   "cell_type": "code",
   "execution_count": null,
   "metadata": {},
   "outputs": [],
   "source": [
    "def calc_cos(v1, v2):\n",
    "    pass"
   ]
  },
  {
   "cell_type": "markdown",
   "metadata": {},
   "source": [
    "Exercise 4 (I assumed that i need to lists integers that are in the set, not all of the integers between a and b)"
   ]
  },
  {
   "cell_type": "code",
   "execution_count": 130,
   "metadata": {},
   "outputs": [
    {
     "name": "stdout",
     "output_type": "stream",
     "text": [
      "[2, 4, 6]\n"
     ]
    }
   ],
   "source": [
    "def list_ints(nums, c):\n",
    "    a = min(nums)\n",
    "    b = max(nums)\n",
    "    return list(filter(lambda x: (x > a and x < b and x % c == 0), nums))\n",
    "\n",
    "print(list_ints({1,2,3,4,5,6,7,5,1},2))\n"
   ]
  },
  {
   "cell_type": "markdown",
   "metadata": {},
   "source": [
    "Exercise 5"
   ]
  },
  {
   "cell_type": "code",
   "execution_count": 108,
   "metadata": {},
   "outputs": [
    {
     "name": "stdout",
     "output_type": "stream",
     "text": [
      "[1, 3]\n"
     ]
    }
   ],
   "source": [
    "def common_elements(l1, l2):\n",
    "    values = []\n",
    "    for i in l1:\n",
    "        if i in l2 and i not in values: \n",
    "            values.append(i)\n",
    "    return values\n",
    "\n",
    "print(common_elements([1,2,5,2,1,3,],[3,7,9,7,7,1,1,1,1]))"
   ]
  },
  {
   "cell_type": "markdown",
   "metadata": {},
   "source": [
    "Exercise 6"
   ]
  },
  {
   "cell_type": "code",
   "execution_count": 113,
   "metadata": {},
   "outputs": [
    {
     "name": "stdout",
     "output_type": "stream",
     "text": [
      "brcdbr\n"
     ]
    }
   ],
   "source": [
    "def remove_letter(x):\n",
    "    return x.replace(\"a\",\"\")\n",
    "print(remove_letter(\"abracadabra\"))"
   ]
  },
  {
   "cell_type": "markdown",
   "metadata": {},
   "source": [
    "Exercise 7"
   ]
  },
  {
   "cell_type": "code",
   "execution_count": 117,
   "metadata": {},
   "outputs": [
    {
     "name": "stdout",
     "output_type": "stream",
     "text": [
      "There are 8 letters in the sentence and 4 digits\n"
     ]
    }
   ],
   "source": [
    "def calc_let_dig(sentence):\n",
    "    letters = 0\n",
    "    digits = 0\n",
    "    for char in sentence:\n",
    "        if char.isalpha():\n",
    "            letters += 1\n",
    "        if char.isdigit():\n",
    "            digits +=1\n",
    "    return letters, digits\n",
    "l, d = calc_let_dig(\"Som3 s3nt3nc3\")\n",
    "print(f\"There are {l} letters in the sentence and {d} digits\")"
   ]
  },
  {
   "cell_type": "markdown",
   "metadata": {},
   "source": [
    "Exercise 8"
   ]
  },
  {
   "cell_type": "code",
   "execution_count": 14,
   "metadata": {},
   "outputs": [
    {
     "name": "stdout",
     "output_type": "stream",
     "text": [
      "{(1, 3), (1, 2), (2,), (1, 2, 3), (2, 3), (1,), (), (3,)}\n"
     ]
    }
   ],
   "source": [
    "from itertools import chain, combinations\n",
    "\n",
    "def powerset(iterable):\n",
    "    s = list(iterable)\n",
    "    return set(chain.from_iterable(combinations(s, r) for r in range(len(s)+1)))\n",
    "    \n",
    "print(powerset({1,2,3}))"
   ]
  },
  {
   "cell_type": "markdown",
   "metadata": {},
   "source": [
    "Exercise 9"
   ]
  },
  {
   "cell_type": "code",
   "execution_count": 163,
   "metadata": {},
   "outputs": [
    {
     "name": "stdout",
     "output_type": "stream",
     "text": [
      "t\n"
     ]
    }
   ],
   "source": [
    "from collections import Counter\n",
    "def most_common(str):\n",
    "    return Counter(str).most_common(1)[0][0]\n",
    "    \n",
    "print(most_common(\"test\"))"
   ]
  },
  {
   "cell_type": "markdown",
   "metadata": {},
   "source": [
    "Exercise 10"
   ]
  },
  {
   "cell_type": "code",
   "execution_count": 165,
   "metadata": {},
   "outputs": [
    {
     "name": "stdout",
     "output_type": "stream",
     "text": [
      "10110\n"
     ]
    }
   ],
   "source": [
    "def to_binary(num):\n",
    "    return \"{0:b}\".format(num)\n",
    "    \n",
    "print(to_binary(22))"
   ]
  },
  {
   "cell_type": "markdown",
   "metadata": {},
   "source": [
    "Exercise 11"
   ]
  },
  {
   "cell_type": "code",
   "execution_count": 166,
   "metadata": {},
   "outputs": [
    {
     "name": "stdout",
     "output_type": "stream",
     "text": [
      "[2, 9, 0]\n"
     ]
    }
   ],
   "source": [
    "def delete_negative(l):\n",
    "    return list(filter(lambda x: (x>=0), l))\n",
    "    \n",
    "print(delete_negative([-1,-6,2,9,0,-2]))"
   ]
  },
  {
   "cell_type": "markdown",
   "metadata": {},
   "source": [
    "Exercise 12"
   ]
  },
  {
   "cell_type": "code",
   "execution_count": 168,
   "metadata": {},
   "outputs": [
    {
     "name": "stdout",
     "output_type": "stream",
     "text": [
      "['abcde', '', 'a']\n"
     ]
    }
   ],
   "source": [
    "def delete_strings(l):\n",
    "    return list(filter(lambda x: (len(x)<=5), l))\n",
    "    \n",
    "print(delete_strings([\"abcde\",\"abcdefh\",\"\",\"a\",\"aaaaaaaa\"]))"
   ]
  },
  {
   "cell_type": "markdown",
   "metadata": {},
   "source": [
    "Exercise 13"
   ]
  },
  {
   "cell_type": "code",
   "execution_count": 169,
   "metadata": {},
   "outputs": [
    {
     "name": "stdout",
     "output_type": "stream",
     "text": [
      "abcdefh\n"
     ]
    }
   ],
   "source": [
    "def longest_string(s):\n",
    "    return max(list(s))\n",
    "    \n",
    "print(longest_string([\"abcde\",\"abcdefh\",\"\",\"a\",\"aaaaaaaa\"]))"
   ]
  },
  {
   "cell_type": "markdown",
   "metadata": {},
   "source": [
    "Exercise 14"
   ]
  },
  {
   "cell_type": "code",
   "execution_count": 2,
   "metadata": {},
   "outputs": [
    {
     "name": "stdout",
     "output_type": "stream",
     "text": [
      "[1, 2, 3, 4, 5, 6]\n"
     ]
    }
   ],
   "source": [
    "def concate_lists(l1,l2):\n",
    "    l3 =[]\n",
    "    for x in range(len(l1)):\n",
    "        l3.append(l1[x])\n",
    "        l3.append(l2[x])\n",
    "    return l3\n",
    "    \n",
    "print(concate_lists([1,3,5],[2,4,6]))\n"
   ]
  },
  {
   "cell_type": "markdown",
   "metadata": {},
   "source": [
    "Exercise 15"
   ]
  },
  {
   "cell_type": "code",
   "execution_count": 12,
   "metadata": {},
   "outputs": [
    {
     "name": "stdout",
     "output_type": "stream",
     "text": [
      "['abc', 'be', 'zz', 22, 76, 123]\n"
     ]
    }
   ],
   "source": [
    "def sort_list(l):\n",
    "    list_of_strings = [x for x in l if type(x) is str]\n",
    "    list_of_ints = [x for x in l if type(x) is int]\n",
    "    return sorted(list_of_strings) + sorted(list_of_ints)\n",
    "\n",
    "print(sort_list([123,22,\"abc\",\"be\",76,\"zz\"]))\n",
    "\n"
   ]
  },
  {
   "cell_type": "code",
   "execution_count": null,
   "metadata": {},
   "outputs": [],
   "source": []
  }
 ],
 "metadata": {
  "interpreter": {
   "hash": "601464f1d83db532495f53efd1f5e2578fe7fa28bc8965a4554ea8ad8342b61a"
  },
  "kernelspec": {
   "display_name": "Python 3.8.0 ('studiaEnv')",
   "language": "python",
   "name": "python3"
  },
  "language_info": {
   "codemirror_mode": {
    "name": "ipython",
    "version": 3
   },
   "file_extension": ".py",
   "mimetype": "text/x-python",
   "name": "python",
   "nbconvert_exporter": "python",
   "pygments_lexer": "ipython3",
   "version": "3.8.0"
  },
  "orig_nbformat": 4
 },
 "nbformat": 4,
 "nbformat_minor": 2
}
